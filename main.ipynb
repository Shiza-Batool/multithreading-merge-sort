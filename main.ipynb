{
 "cells": [
  {
   "cell_type": "code",
   "execution_count": 3,
   "metadata": {},
   "outputs": [
    {
     "name": "stdout",
     "output_type": "stream",
     "text": [
      "[1, 2, 3, 4, 5]\n"
     ]
    }
   ],
   "source": [
    "import threading\n",
    "\n",
    "def merge_sort(arr):\n",
    "    if len(arr) > 1:\n",
    "        # Split the array into two halves\n",
    "        mid = len(arr) // 2\n",
    "        left = arr[:mid]\n",
    "        right = arr[mid:]\n",
    "\n",
    "        # Sort the two halves in separate threads\n",
    "        #My Computer have 4 core so implementing it in four threads \n",
    "        t1 = threading.Thread(target=merge_sort, args=(left,))\n",
    "        t2 = threading.Thread(target=merge_sort, args=(left,))\n",
    "        t3 = threading.Thread(target=merge_sort, args=(right,))\n",
    "        t4 = threading.Thread(target=merge_sort, args=(right,))\n",
    "        \n",
    "        t1.start()\n",
    "        t2.start()\n",
    "        t3.start()\n",
    "        t4.start()\n",
    "\n",
    "        # Wait for the threads to finish\n",
    "        t1.join()\n",
    "        t2.join()\n",
    "        t3.join()\n",
    "        t4.join()\n",
    "\n",
    "        # Merge the sorted halves\n",
    "        i = j = k = 0\n",
    "        while i < len(left) and j < len(right):\n",
    "            if left[i] < right[j]:\n",
    "                arr[k] = left[i]\n",
    "                i += 1\n",
    "            else:\n",
    "                arr[k] = right[j]\n",
    "                j += 1\n",
    "            k += 1\n",
    "\n",
    "        while i < len(left):\n",
    "            arr[k] = left[i]\n",
    "            i += 1\n",
    "            k += 1\n",
    "\n",
    "        while j < len(right):\n",
    "            arr[k] = right[j]\n",
    "            j += 1\n",
    "            k += 1\n",
    "\n",
    "# Test the multithreaded merge sort function\n",
    "arr = [4, 2, 5, 1, 3]\n",
    "merge_sort(arr)\n",
    "print(arr)  # [1, 2, 3, 4, 5]\n",
    "\n"
   ]
  }
 ],
 "metadata": {
  "kernelspec": {
   "display_name": "Python 3",
   "language": "python",
   "name": "python3"
  },
  "language_info": {
   "codemirror_mode": {
    "name": "ipython",
    "version": 3
   },
   "file_extension": ".py",
   "mimetype": "text/x-python",
   "name": "python",
   "nbconvert_exporter": "python",
   "pygments_lexer": "ipython3",
   "version": "3.11.0 (main, Oct 24 2022, 18:26:48) [MSC v.1933 64 bit (AMD64)]"
  },
  "orig_nbformat": 4,
  "vscode": {
   "interpreter": {
    "hash": "379fe8e10ded02fa94a29b4b37a41c7d80f19320dc2f2cadbccf353975fbaaa0"
   }
  }
 },
 "nbformat": 4,
 "nbformat_minor": 2
}
